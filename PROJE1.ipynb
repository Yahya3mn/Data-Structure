{
 "cells": [
  {
   "cell_type": "code",
   "execution_count": 4,
   "id": "f4ebdb93",
   "metadata": {},
   "outputs": [
    {
     "name": "stdout",
     "output_type": "stream",
     "text": [
      "Insertion Sort: [2, 6, 16, 18, 22, 27]\n"
     ]
    }
   ],
   "source": [
    "def insertion_sort(arr):\n",
    "    for i in range(1, len(arr)):\n",
    "        key = arr[i]\n",
    "        j = i - 1\n",
    "        while j >= 0 and key < arr[j]:\n",
    "            arr[j + 1] = arr[j]\n",
    "            j -= 1\n",
    "        arr[j + 1] = key\n",
    "\n",
    "arr1 = [22, 27, 16, 2, 18, 6]\n",
    "insertion_sort(arr1)\n",
    "print(\"Insertion Sort:\", arr1)"
   ]
  },
  {
   "cell_type": "code",
   "execution_count": 2,
   "id": "b5478b7f",
   "metadata": {},
   "outputs": [
    {
     "name": "stdout",
     "output_type": "stream",
     "text": [
      "Big-O gösterimi: O(n^2)\n",
      "Time Complexity:\n",
      "Average case: Aradığımız sayının ortada olması\n",
      "Worst case: Aradığımız sayının sonda olması\n",
      "Best case: Aradığımız sayının dizinin en başında olması.\n"
     ]
    }
   ],
   "source": [
    "print(\"Big-O gösterimi: O(n^2)\")\n",
    "print(\"Time Complexity:\")\n",
    "print(\"Average case: Aradığımız sayının ortada olması\")\n",
    "print(\"Worst case: Aradığımız sayının sonda olması\")\n",
    "print(\"Best case: Aradığımız sayının dizinin en başında olması.\")"
   ]
  },
  {
   "cell_type": "code",
   "execution_count": 5,
   "id": "55ab7212",
   "metadata": {},
   "outputs": [
    {
     "name": "stdout",
     "output_type": "stream",
     "text": [
      "\n",
      "Selection Sort: [2, 3, 4, 5]\n"
     ]
    }
   ],
   "source": [
    "def selection_sort(arr):\n",
    "    for i in range(len(arr)):\n",
    "        min_index = i\n",
    "        for j in range(i+1, len(arr)):\n",
    "            if arr[j] < arr[min_index]:\n",
    "                min_index = j\n",
    "        arr[i], arr[min_index] = arr[min_index], arr[i]\n",
    "\n",
    "arr2 = [7, 3, 5, 8, 2, 9, 4, 15, 6]\n",
    "selection_sort(arr2)\n",
    "print(\"\\nSelection Sort:\", arr2[:4])"
   ]
  }
 ],
 "metadata": {
  "kernelspec": {
   "display_name": "Python 3 (ipykernel)",
   "language": "python",
   "name": "python3"
  },
  "language_info": {
   "codemirror_mode": {
    "name": "ipython",
    "version": 3
   },
   "file_extension": ".py",
   "mimetype": "text/x-python",
   "name": "python",
   "nbconvert_exporter": "python",
   "pygments_lexer": "ipython3",
   "version": "3.10.9"
  }
 },
 "nbformat": 4,
 "nbformat_minor": 5
}
